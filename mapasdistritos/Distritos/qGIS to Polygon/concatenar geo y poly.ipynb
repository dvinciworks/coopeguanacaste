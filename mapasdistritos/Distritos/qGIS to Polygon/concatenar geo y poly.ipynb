{
 "metadata": {
  "name": "",
  "signature": "sha256:57f213af96188f8870e1da73b6263c4373b48fa81066252267c2d3aa488ee105"
 },
 "nbformat": 3,
 "nbformat_minor": 0,
 "worksheets": [
  {
   "cells": [
    {
     "cell_type": "code",
     "collapsed": false,
     "input": [
      "import pandas as pd\n",
      "import numpy as np"
     ],
     "language": "python",
     "metadata": {},
     "outputs": [],
     "prompt_number": 1
    },
    {
     "cell_type": "code",
     "collapsed": false,
     "input": [
      "geo = pd.read_csv('geo.csv')\n",
      "poly = pd.read_csv('distritos_poly.csv')"
     ],
     "language": "python",
     "metadata": {},
     "outputs": [],
     "prompt_number": 2
    },
    {
     "cell_type": "code",
     "collapsed": false,
     "input": [
      "geo.head()"
     ],
     "language": "python",
     "metadata": {},
     "outputs": [
      {
       "html": [
        "<div style=\"max-height:1000px;max-width:1500px;overflow:auto;\">\n",
        "<table border=\"1\" class=\"dataframe\">\n",
        "  <thead>\n",
        "    <tr style=\"text-align: right;\">\n",
        "      <th></th>\n",
        "      <th>PolygonID</th>\n",
        "      <th>Provincia</th>\n",
        "      <th>Canton</th>\n",
        "      <th>Distrito</th>\n",
        "    </tr>\n",
        "  </thead>\n",
        "  <tbody>\n",
        "    <tr>\n",
        "      <th>0</th>\n",
        "      <td> 0</td>\n",
        "      <td>   ALAJUELA</td>\n",
        "      <td>   UPALA</td>\n",
        "      <td>     DOS RIOS</td>\n",
        "    </tr>\n",
        "    <tr>\n",
        "      <th>1</th>\n",
        "      <td> 1</td>\n",
        "      <td>   ALAJUELA</td>\n",
        "      <td>   UPALA</td>\n",
        "      <td> AGUAS CLARAS</td>\n",
        "    </tr>\n",
        "    <tr>\n",
        "      <th>2</th>\n",
        "      <td> 2</td>\n",
        "      <td>   ALAJUELA</td>\n",
        "      <td>   UPALA</td>\n",
        "      <td>     YOLILLAL</td>\n",
        "    </tr>\n",
        "    <tr>\n",
        "      <th>3</th>\n",
        "      <td> 3</td>\n",
        "      <td> GUANACASTE</td>\n",
        "      <td> LIBERIA</td>\n",
        "      <td>      MAYORGA</td>\n",
        "    </tr>\n",
        "    <tr>\n",
        "      <th>4</th>\n",
        "      <td> 4</td>\n",
        "      <td>   ALAJUELA</td>\n",
        "      <td>   UPALA</td>\n",
        "      <td>        UPALA</td>\n",
        "    </tr>\n",
        "  </tbody>\n",
        "</table>\n",
        "<p>5 rows \u00d7 4 columns</p>\n",
        "</div>"
       ],
       "metadata": {},
       "output_type": "pyout",
       "prompt_number": 3,
       "text": [
        "   PolygonID   Provincia   Canton      Distrito\n",
        "0          0    ALAJUELA    UPALA      DOS RIOS\n",
        "1          1    ALAJUELA    UPALA  AGUAS CLARAS\n",
        "2          2    ALAJUELA    UPALA      YOLILLAL\n",
        "3          3  GUANACASTE  LIBERIA       MAYORGA\n",
        "4          4    ALAJUELA    UPALA         UPALA\n",
        "\n",
        "[5 rows x 4 columns]"
       ]
      }
     ],
     "prompt_number": 3
    },
    {
     "cell_type": "code",
     "collapsed": false,
     "input": [
      "poly.head()"
     ],
     "language": "python",
     "metadata": {},
     "outputs": [
      {
       "html": [
        "<div style=\"max-height:1000px;max-width:1500px;overflow:auto;\">\n",
        "<table border=\"1\" class=\"dataframe\">\n",
        "  <thead>\n",
        "    <tr style=\"text-align: right;\">\n",
        "      <th></th>\n",
        "      <th>PolygonID</th>\n",
        "      <th>SubPolygonID</th>\n",
        "      <th>PointID</th>\n",
        "      <th>Longitude</th>\n",
        "      <th>Latitude</th>\n",
        "    </tr>\n",
        "  </thead>\n",
        "  <tbody>\n",
        "    <tr>\n",
        "      <th>0</th>\n",
        "      <td> 0</td>\n",
        "      <td> 1</td>\n",
        "      <td> 0</td>\n",
        "      <td> 350514.357200</td>\n",
        "      <td> 1216542.144519</td>\n",
        "    </tr>\n",
        "    <tr>\n",
        "      <th>1</th>\n",
        "      <td> 0</td>\n",
        "      <td> 1</td>\n",
        "      <td> 1</td>\n",
        "      <td> 350539.736557</td>\n",
        "      <td> 1216542.205906</td>\n",
        "    </tr>\n",
        "    <tr>\n",
        "      <th>2</th>\n",
        "      <td> 0</td>\n",
        "      <td> 1</td>\n",
        "      <td> 2</td>\n",
        "      <td> 350600.666447</td>\n",
        "      <td> 1216552.692455</td>\n",
        "    </tr>\n",
        "    <tr>\n",
        "      <th>3</th>\n",
        "      <td> 0</td>\n",
        "      <td> 1</td>\n",
        "      <td> 3</td>\n",
        "      <td> 350624.774181</td>\n",
        "      <td> 1216560.475515</td>\n",
        "    </tr>\n",
        "    <tr>\n",
        "      <th>4</th>\n",
        "      <td> 0</td>\n",
        "      <td> 1</td>\n",
        "      <td> 4</td>\n",
        "      <td> 350626.939737</td>\n",
        "      <td> 1216616.482168</td>\n",
        "    </tr>\n",
        "  </tbody>\n",
        "</table>\n",
        "<p>5 rows \u00d7 5 columns</p>\n",
        "</div>"
       ],
       "metadata": {},
       "output_type": "pyout",
       "prompt_number": 4,
       "text": [
        "   PolygonID  SubPolygonID  PointID      Longitude        Latitude\n",
        "0          0             1        0  350514.357200  1216542.144519\n",
        "1          0             1        1  350539.736557  1216542.205906\n",
        "2          0             1        2  350600.666447  1216552.692455\n",
        "3          0             1        3  350624.774181  1216560.475515\n",
        "4          0             1        4  350626.939737  1216616.482168\n",
        "\n",
        "[5 rows x 5 columns]"
       ]
      }
     ],
     "prompt_number": 4
    },
    {
     "cell_type": "code",
     "collapsed": false,
     "input": [
      "distritos_poly = pd.merge(poly,geo)"
     ],
     "language": "python",
     "metadata": {},
     "outputs": [],
     "prompt_number": 5
    },
    {
     "cell_type": "code",
     "collapsed": false,
     "input": [
      "distritos_poly.to_csv('distritos_poly.csv', index=False)"
     ],
     "language": "python",
     "metadata": {},
     "outputs": [],
     "prompt_number": 7
    },
    {
     "cell_type": "code",
     "collapsed": false,
     "input": [],
     "language": "python",
     "metadata": {},
     "outputs": []
    }
   ],
   "metadata": {}
  }
 ]
}