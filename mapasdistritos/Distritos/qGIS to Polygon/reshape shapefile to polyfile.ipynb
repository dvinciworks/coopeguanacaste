{
 "metadata": {
  "name": "",
  "signature": "sha256:26d2cbf209a50bee8719e03f0cd2940b61761fff4cd07ed975cc3eb44add0395"
 },
 "nbformat": 3,
 "nbformat_minor": 0,
 "worksheets": [
  {
   "cells": [
    {
     "cell_type": "code",
     "collapsed": false,
     "input": [
      "import pandas as pd\n",
      "import numpy as np"
     ],
     "language": "python",
     "metadata": {},
     "outputs": [],
     "prompt_number": 1
    },
    {
     "cell_type": "code",
     "collapsed": false,
     "input": [
      "dt = pd.read_json('distritosjson.json')"
     ],
     "language": "python",
     "metadata": {},
     "outputs": [],
     "prompt_number": 2
    },
    {
     "cell_type": "code",
     "collapsed": false,
     "input": [
      "dt.head()"
     ],
     "language": "python",
     "metadata": {},
     "outputs": [
      {
       "html": [
        "<div style=\"max-height:1000px;max-width:1500px;overflow:auto;\">\n",
        "<table border=\"1\" class=\"dataframe\">\n",
        "  <thead>\n",
        "    <tr style=\"text-align: right;\">\n",
        "      <th></th>\n",
        "      <th>coordinates</th>\n",
        "      <th>type</th>\n",
        "    </tr>\n",
        "  </thead>\n",
        "  <tbody>\n",
        "    <tr>\n",
        "      <th>0</th>\n",
        "      <td> [[[[350514.357199569, 1216542.14451864], [3505...</td>\n",
        "      <td> MultiPolygon</td>\n",
        "    </tr>\n",
        "    <tr>\n",
        "      <th>1</th>\n",
        "      <td> [[[[352698.545579729, 1203770.57657002], [3526...</td>\n",
        "      <td> MultiPolygon</td>\n",
        "    </tr>\n",
        "    <tr>\n",
        "      <th>2</th>\n",
        "      <td> [[[[391584.000763853, 1213700.28004012], [4004...</td>\n",
        "      <td> MultiPolygon</td>\n",
        "    </tr>\n",
        "    <tr>\n",
        "      <th>3</th>\n",
        "      <td> [[[[336255.579161128, 1211745.17058869], [3362...</td>\n",
        "      <td> MultiPolygon</td>\n",
        "    </tr>\n",
        "    <tr>\n",
        "      <th>4</th>\n",
        "      <td> [[[[381152.242018815, 1206388.49923398], [3812...</td>\n",
        "      <td> MultiPolygon</td>\n",
        "    </tr>\n",
        "  </tbody>\n",
        "</table>\n",
        "<p>5 rows \u00d7 2 columns</p>\n",
        "</div>"
       ],
       "metadata": {},
       "output_type": "pyout",
       "prompt_number": 3,
       "text": [
        "                                         coordinates          type\n",
        "0  [[[[350514.357199569, 1216542.14451864], [3505...  MultiPolygon\n",
        "1  [[[[352698.545579729, 1203770.57657002], [3526...  MultiPolygon\n",
        "2  [[[[391584.000763853, 1213700.28004012], [4004...  MultiPolygon\n",
        "3  [[[[336255.579161128, 1211745.17058869], [3362...  MultiPolygon\n",
        "4  [[[[381152.242018815, 1206388.49923398], [3812...  MultiPolygon\n",
        "\n",
        "[5 rows x 2 columns]"
       ]
      }
     ],
     "prompt_number": 3
    },
    {
     "cell_type": "code",
     "collapsed": false,
     "input": [
      "len(dt)"
     ],
     "language": "python",
     "metadata": {},
     "outputs": [
      {
       "metadata": {},
       "output_type": "pyout",
       "prompt_number": 4,
       "text": [
        "948"
       ]
      }
     ],
     "prompt_number": 4
    },
    {
     "cell_type": "code",
     "collapsed": false,
     "input": [
      "dt['coordinates'][0][0][0][0], dt['coordinates'][0][0][0][1]"
     ],
     "language": "python",
     "metadata": {},
     "outputs": [
      {
       "metadata": {},
       "output_type": "pyout",
       "prompt_number": 5,
       "text": [
        "([350514.357199569, 1216542.14451864], [350539.736557341, 1216542.20590606])"
       ]
      }
     ],
     "prompt_number": 5
    },
    {
     "cell_type": "code",
     "collapsed": false,
     "input": [
      "# get x,y coordinates\n",
      "dpoints = pd.DataFrame()\n",
      "for i in range(len(dt)):\n",
      "    dpoints = dpoints.append(pd.DataFrame(dt['coordinates'][i][0][0], columns=['x','y']))\n",
      "    if i==0:\n",
      "        dpoints['gid'] = i\n",
      "    dpoints['gid'] = dpoints['gid'].fillna(i)"
     ],
     "language": "python",
     "metadata": {},
     "outputs": [],
     "prompt_number": 6
    },
    {
     "cell_type": "code",
     "collapsed": false,
     "input": [
      "# add point id counters\n",
      "points = pd.DataFrame()\n",
      "for i in range(0,int(dpoints['gid'].max())+1):\n",
      "    if i == 0:\n",
      "        points = pd.DataFrame(np.arange(len(dpoints[dpoints['gid']==0])), columns=['pointid'])\n",
      "    if i <> 0:\n",
      "        points = points.append(pd.DataFrame(np.arange(len(dpoints[dpoints['gid']==i])), columns=['pointid']))"
     ],
     "language": "python",
     "metadata": {},
     "outputs": [],
     "prompt_number": 7
    },
    {
     "cell_type": "code",
     "collapsed": false,
     "input": [
      "len(points)"
     ],
     "language": "python",
     "metadata": {},
     "outputs": [
      {
       "metadata": {},
       "output_type": "pyout",
       "prompt_number": 8,
       "text": [
        "427232"
       ]
      }
     ],
     "prompt_number": 8
    },
    {
     "cell_type": "code",
     "collapsed": true,
     "input": [
      "dpoints['pointid'] = points"
     ],
     "language": "python",
     "metadata": {},
     "outputs": [],
     "prompt_number": 9
    },
    {
     "cell_type": "code",
     "collapsed": false,
     "input": [
      "len(dpoints)"
     ],
     "language": "python",
     "metadata": {},
     "outputs": [
      {
       "metadata": {},
       "output_type": "pyout",
       "prompt_number": 10,
       "text": [
        "427232"
       ]
      }
     ],
     "prompt_number": 10
    },
    {
     "cell_type": "code",
     "collapsed": false,
     "input": [
      "dpoints['PolygonID'] = dpoints['gid'].astype(int)\n",
      "dpoints['SubPolygonID']=1\n",
      "dpoints['PointID'] = dpoints['pointid']\n",
      "dpoints['Longitude'] = dpoints['x']\n",
      "dpoints['Latitude'] = dpoints['y']"
     ],
     "language": "python",
     "metadata": {},
     "outputs": [],
     "prompt_number": 11
    },
    {
     "cell_type": "code",
     "collapsed": false,
     "input": [
      "poly = pd.DataFrame(dpoints[['PolygonID','SubPolygonID','PointID','Longitude','Latitude']])"
     ],
     "language": "python",
     "metadata": {},
     "outputs": [],
     "prompt_number": 13
    },
    {
     "cell_type": "code",
     "collapsed": false,
     "input": [
      "poly.dtypes"
     ],
     "language": "python",
     "metadata": {},
     "outputs": [
      {
       "metadata": {},
       "output_type": "pyout",
       "prompt_number": 14,
       "text": [
        "PolygonID         int64\n",
        "SubPolygonID      int64\n",
        "PointID           int64\n",
        "Longitude       float64\n",
        "Latitude        float64\n",
        "dtype: object"
       ]
      }
     ],
     "prompt_number": 14
    },
    {
     "cell_type": "code",
     "collapsed": false,
     "input": [
      "poly.to_csv('distritos_poly.csv', index=False)"
     ],
     "language": "python",
     "metadata": {},
     "outputs": [],
     "prompt_number": 15
    },
    {
     "cell_type": "code",
     "collapsed": false,
     "input": [],
     "language": "python",
     "metadata": {},
     "outputs": []
    }
   ],
   "metadata": {}
  }
 ]
}